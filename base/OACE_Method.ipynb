{
  "cells": [
    {
      "cell_type": "markdown",
      "metadata": {
        "id": "abAnlQH2bZKM"
      },
      "source": [
        "Métricas de assertividade dos modelos\n",
        "\n",
        "|             |  CNN    |  MobileNet    |  ViT    |  BEiT    |  ResNet    |  ResNetXt    |\n",
        "|-------------|---------|---------|---------|---------|---------|---------|\n",
        "|Precisão     | 0.12   | 0.14   | 0.76   | 0.79   | 0.84   | 0.66   |\n",
        "|Acurácia     | 0.21   | 0.26   | 0.75   | 0.80   | 0.78   | 0.65   |\n",
        "|Recall       | 0.16    | 0.20    | 0.72    | 0.82    | 0.73    | 0.60    |\n",
        "|F1-score     | 0.15    | 0.14    | 0.73    | 0.79    | 0.76    | 0.62    |\n",
        "\n"
      ]
    },
    {
      "cell_type": "markdown",
      "metadata": {
        "id": "WZzyyDbIjuNJ"
      },
      "source": [
        "Métricas de Custo dos modelos\n",
        "\n",
        "|             |  CNN    |  MobileNet    |  ViT    |  BEiT    |  ResNet    |  ResNetXt    |\n",
        "|-------------|---------|---------|---------|---------|---------|---------|\n",
        "|IPS     | 193   | 59   | 4       | 4       | 9       | 8       |\n",
        "|MTP     |   8   | 4    | 86      | 86      | 26      | 25      |\n",
        "|TPI     | 5     | 17   | 264     | 279     | 115     | 126     |\n",
        "|MS      | 96    | 7    | 327     | 330     | 90      | 88     |"
      ]
    },
    {
      "cell_type": "markdown",
      "metadata": {
        "id": "U84l8PSPBe2M"
      },
      "source": [
        "### <b> Abordagem 1: Avaliação de Classificadores no Reconhecimento de Formas Geométricas Tridimensionais </b>"
      ]
    },
    {
      "cell_type": "markdown",
      "metadata": {
        "id": "fMcrrZdgLsZi"
      },
      "source": [
        "#### <b> Objetivos </b>\n",
        "\n",
        "*   Aprimorar o processo de ensino e aprendizagem da Matemática no Brasil, esse trabalho apresenta uma metodologia para o treinamento e avaliação de modelos de IA para integração futura com uma aplicação de apoio Ensino de Geometria Tridimensional no Metaverso;\n",
        "*   Avaliação dos modelos diretamente baseada nas métricas de Machine Learning e desempenho de inferência;\n",
        "*   Selecionar o modelo de maior assertividade e eficiência computacional, garantindo ao mesmo tempo a mais alta qualidade na experiência futura do usuário por meio de um aplicativo, denominado Geometa.\n",
        "*   Reprodução do trabalho enviado para o LA-CCI em 2023 com a diferença de avaliar somente os modelos ResNet, BEiT e ViT por meio de duas métricas de Machine Learning e três métricas de desempenho de inferência."
      ]
    },
    {
      "cell_type": "markdown",
      "metadata": {
        "id": "b5_TigQELJll"
      },
      "source": [
        "#### <b> Método </b>\n",
        "\n",
        "*   Treinar modelos para o Reconhecimento de Formas Geométricas Tridimensionais por meio de imagens do mundo real;\n",
        "*   Avaliar os modelos com base nas métricas de Machine Learning:\n",
        "\n",
        "<br>\n",
        "  \n",
        "$$\n",
        "  \\text{Precisão} = \\frac{\\text{Verdadeiros Positivos}}{\\text{Verdadeiros Positivos} + \\text{Falsos Positivos}}\n",
        "$$\n",
        "\n",
        "<br>\n",
        "\n",
        "$$\n",
        "  \\text{F1-Score} = \\frac{\\text{Verdadeiros Positivos}}{\\text{Verdadeiros Positivos} + \\frac{1}{2}(\\text{Falsos Positivos + Falsos Negativos})}\n",
        "$$\n",
        "\n",
        "<br>\n",
        "\n",
        "*   Avaliar os modelos com base nas métricas de Desempenho de Inferência:\n",
        "\n",
        "<br>\n",
        "\n",
        "$$\n",
        "\\text{Total de Parâmetros} = N\n",
        "$$\n",
        "\n",
        "<br>\n",
        "\n",
        "$$\n",
        "\\text{Conv Multiply-Accumulate Operations (MACs)} = F \\times Kx \\times Ky \\times Cin \\times Wout \\times Hout \\\\\n",
        "\\text{Dense Multiply-Accumulate Operations (MACs)} = N_{in} \\times N_{out}\n",
        "$$\n",
        "\n",
        "<br>\n",
        "\n",
        "$$\n",
        "\\text{Giga Float Point Operations per Second (GFLOPs)} = \\frac{2 \\cdot \\text{MACs}}{10^{9}}\n",
        "$$\n",
        "\n",
        "<br>\n",
        "\n",
        "*   Selecionar o modelo de melhor desempenho.\n",
        "\n"
      ]
    },
    {
      "cell_type": "markdown",
      "metadata": {
        "id": "lDcxBG2WHCxA"
      },
      "source": [
        "### <b> Abordagem II: Avaliação de Desempenho $S\\phi$ em Assertividade e Custo Computacional</b>\n",
        "#### <b>Estudo de caso: Reconhecimento de Formas Geométricas Tridimensionais</b>"
      ]
    },
    {
      "cell_type": "markdown",
      "metadata": {
        "id": "pvoIrm8xTDWc"
      },
      "source": [
        "#### <b> Modelagem do problema </b>\n",
        "\n",
        "Considere um problema de otimização multiobjetivo que envolve tanto a maximização da assertividade de um modelo de Deep Learning, denotada por $A(m)$, quanto a minimização do custo computacional, denotada por $C(m)$. A formulação proposta busca encontrar um modelo $m$ que ofereça um equilíbrio ótimo entre assertividade e eficiência computacional. Para tal, introduzimos um parâmetro $\\lambda$, que balanceia esses dois objetivos, controlando a importância relativa de cada um.\n",
        "\n",
        "<br>\n",
        "\n",
        "  $$\n",
        "  \\underset{m}{\\text{maximizar}} \\quad {S\\phi(m)} = \\lambda \\cdot A(m) + (1 - \\lambda) \\cdot C(m) \\\\\n",
        "  A(m) = \\sum_{i}{w_i^a \\cdot a_i(m)} \\\\\n",
        "  C(m) = -\\sum_{j}{w_j^c \\cdot c_j(m)} \\\\\n",
        "  \\quad \\text{sujeito a} \\space \\space \\quad m \\in M \\text{(conjunto de modelos)} \\quad \\quad \\quad \\\\\n",
        "  \\frac{1}{2} \\leq \\lambda \\leq 1 \\quad \\quad \\quad \\quad \\quad \\\\\n",
        "  \\quad \\quad \\space 0 \\leq w_i^a, w_j^c \\leq 1, \\quad \\forall i,j \\in \\mathbb{N}\n",
        "  $$"
      ]
    },
    {
      "cell_type": "markdown",
      "metadata": {
        "id": "Za4wMQh5OiSG"
      },
      "source": [
        "#### <b> Implementação </b>\n",
        "A implementação deste modelo de problema envolve avaliar e comparar o desempenho de modelos de Inteligência Artificial por meio de um conjunto de métricas quaisquer. O método visa considerar tanto a assertividade quanto o custo computacional dos modelos na classificação."
      ]
    },
    {
      "cell_type": "code",
      "execution_count": 1,
      "metadata": {
        "id": "FXbA50hzRY6l"
      },
      "outputs": [],
      "source": [
        "import numpy as np\n",
        "from pyDecision.algorithm import ahp_method\n",
        "import json\n",
        "import pandas as pd\n",
        "import matplotlib.pyplot as plt"
      ]
    },
    {
      "cell_type": "code",
      "execution_count": 2,
      "metadata": {
        "id": "i6wo2so3RbBf"
      },
      "outputs": [],
      "source": [
        "# Parameters\n",
        "weight_derivation = 'geometric' # 'mean'; 'geometric' or 'max_eigen'\n",
        "\n",
        "# Dataset for assertiveness metrics (P -> A -> R)\n",
        "dataset = np.array([\n",
        "  #P      A      R\n",
        "  [1  ,   5,     7   ],   #P\n",
        "  [1/5,   1,     3   ],   #A\n",
        "  [1/7,   1/3,   1   ],   #R\n",
        "])"
      ]
    },
    {
      "cell_type": "code",
      "execution_count": 3,
      "metadata": {
        "id": "T3dH2fL_TLw4"
      },
      "outputs": [],
      "source": [
        "# Parameters\n",
        "weight_derivation = 'geometric' # 'mean'; 'geometric' or 'max_eigen'\n",
        "\n",
        "# Dataset for cost metrics (MTP -> TPI -> MS)\n",
        "dataset = np.array([\n",
        "  #MTP    TPI    MS\n",
        "  [  1,     5,   7   ],   #MTP\n",
        "  [1/5,     1,   3   ],   #TPI\n",
        "  [1/7,   1/3,   1   ],   #MS\n",
        "])"
      ]
    },
    {
      "cell_type": "code",
      "execution_count": 4,
      "metadata": {
        "id": "YGrWRzFASx9X"
      },
      "outputs": [],
      "source": [
        "# Call AHP Function\n",
        "weights, rc = ahp_method(dataset, wd = weight_derivation)"
      ]
    },
    {
      "cell_type": "code",
      "execution_count": 6,
      "metadata": {},
      "outputs": [],
      "source": [
        "w1, w2, w3 = weights[0], weights[1], weights[2]"
      ]
    },
    {
      "cell_type": "code",
      "execution_count": 7,
      "metadata": {},
      "outputs": [
        {
          "name": "stdout",
          "output_type": "stream",
          "text": [
            "0.7306446713611295, 0.1883940966391198, 0.0809612319997507\n"
          ]
        }
      ],
      "source": [
        "print(f\"{w1}, {w2}, {w3}\")"
      ]
    },
    {
      "cell_type": "code",
      "execution_count": 5,
      "metadata": {
        "colab": {
          "base_uri": "https://localhost:8080/"
        },
        "id": "Ip1Vg_WmRguM",
        "outputId": "834ab786-0945-4ec7-f562-68d1da8a1a1b"
      },
      "outputs": [
        {
          "name": "stdout",
          "output_type": "stream",
          "text": [
            "w(1):  0.731\n",
            "w(2):  0.188\n",
            "w(3):  0.081\n"
          ]
        }
      ],
      "source": [
        "# Weigths\n",
        "for i in range(0, weights.shape[0]):\n",
        "  print('w('+str(i+1)+'): ', round(weights[i], 3))"
      ]
    },
    {
      "cell_type": "code",
      "execution_count": 6,
      "metadata": {
        "colab": {
          "base_uri": "https://localhost:8080/"
        },
        "id": "qP-d2NT2Rkhh",
        "outputId": "5cb963ed-8a7c-48e4-bf46-9add83dc978e"
      },
      "outputs": [
        {
          "name": "stdout",
          "output_type": "stream",
          "text": [
            "RC: 0.06\n",
            "The solution is consistent\n"
          ]
        }
      ],
      "source": [
        "# Consistency Ratio\n",
        "print('RC: ' + str(round(rc, 2)))\n",
        "if (rc > 0.10):\n",
        "  print('The solution is inconsistent, the pairwise comparisons must be reviewed')\n",
        "else:\n",
        "  print('The solution is consistent')"
      ]
    },
    {
      "cell_type": "markdown",
      "metadata": {
        "id": "vh6GABJHEuk5"
      },
      "source": [
        "Exemplos de casos envolvendo conjuntos de métricas obtidas pela avaliação de modelos."
      ]
    },
    {
      "cell_type": "code",
      "execution_count": 8,
      "metadata": {
        "colab": {
          "base_uri": "https://localhost:8080/"
        },
        "id": "-Ss4l8YSfj8f",
        "outputId": "274957ea-e27e-4f05-b36d-1659f14f39b1"
      },
      "outputs": [
        {
          "data": {
            "text/plain": [
              "[{'assertividade': {'precision': 0.12, 'accuracy': 0.21, 'recall': 0.16},\n",
              "  'custo': {'mtp': 8, 'tpi': 5, 'ms': 96}},\n",
              " {'assertividade': {'precision': 0.14, 'accuracy': 0.26, 'recall': 0.2},\n",
              "  'custo': {'mtp': 4, 'tpi': 17, 'ms': 7}},\n",
              " {'assertividade': {'precision': 0.76, 'accuracy': 0.75, 'recall': 0.72},\n",
              "  'custo': {'mtp': 86, 'tpi': 264, 'ms': 327}},\n",
              " {'assertividade': {'precision': 0.79, 'accuracy': 0.8, 'recall': 0.82},\n",
              "  'custo': {'mtp': 86, 'tpi': 279, 'ms': 330}},\n",
              " {'assertividade': {'precision': 0.84, 'accuracy': 0.78, 'recall': 0.73},\n",
              "  'custo': {'mtp': 26, 'tpi': 115, 'ms': 90}},\n",
              " {'assertividade': {'precision': 0.66, 'accuracy': 0.65, 'recall': 0.6},\n",
              "  'custo': {'mtp': 25, 'tpi': 126, 'ms': 88}}]"
            ]
          },
          "execution_count": 8,
          "metadata": {},
          "output_type": "execute_result"
        }
      ],
      "source": [
        "cnn = {\"assertividade\": {\n",
        "                            \"precision\":0.12,\n",
        "                            \"accuracy\":0.21,\n",
        "                            \"recall\":0.16,\n",
        "                           },\n",
        "                 \"custo\": {\n",
        "                            \"mtp\":8, # model total parameters\n",
        "                            \"tpi\":5, # time per inference\n",
        "                            \"ms\":96 # model size\n",
        "                          }\n",
        "                }\n",
        "mobileNet = {\"assertividade\": {\n",
        "                            \"precision\":0.14,\n",
        "                            \"accuracy\":0.26,\n",
        "                            \"recall\":0.20,\n",
        "                           },\n",
        "                 \"custo\": {\n",
        "                            \"mtp\":4, # model total parameters\n",
        "                            \"tpi\":17, # time per inference\n",
        "                            \"ms\":7 # model size\n",
        "                          }\n",
        "                }\n",
        "vit = {\"assertividade\": {\n",
        "                            \"precision\":0.76,\n",
        "                            \"accuracy\":0.75,\n",
        "                            \"recall\":0.72,\n",
        "                           },\n",
        "                 \"custo\": {\n",
        "                            \"mtp\":86, # model total parameters\n",
        "                            \"tpi\":264, # time per inference\n",
        "                            \"ms\":327 # model size\n",
        "                          }\n",
        "                }\n",
        "beit = {\"assertividade\": {\n",
        "                            \"precision\":0.79,\n",
        "                            \"accuracy\":0.80,\n",
        "                            \"recall\":0.82,\n",
        "                           },\n",
        "                 \"custo\": {\n",
        "                            \"mtp\":86, # model total parameters\n",
        "                            \"tpi\":279, # time per inference\n",
        "                            \"ms\":330 # model size\n",
        "                          }\n",
        "                }\n",
        "resnet = {\"assertividade\": {\n",
        "                            \"precision\":0.84,\n",
        "                            \"accuracy\":0.78,\n",
        "                            \"recall\":0.73,\n",
        "                           },\n",
        "                 \"custo\": {\n",
        "                            \"mtp\":26, # model total parameters\n",
        "                            \"tpi\":115, # time per inference\n",
        "                            \"ms\":90 # model size\n",
        "                          }\n",
        "                }\n",
        "resnetXt = {\"assertividade\": {\n",
        "                            \"precision\":0.66,\n",
        "                            \"accuracy\":0.65,\n",
        "                            \"recall\":0.60,\n",
        "                           },\n",
        "                 \"custo\": {\n",
        "                            \"mtp\":25, # model total parameters\n",
        "                            \"tpi\":126, # time per inference\n",
        "                            \"ms\":88 # model size\n",
        "                          }\n",
        "                }\n",
        "\n",
        "caso_modelos = [cnn, mobileNet, vit, beit, resnet, resnetXt]\n",
        "modelos = caso_modelos\n",
        "modelos"
      ]
    },
    {
      "cell_type": "markdown",
      "metadata": {
        "id": "bKTHoxL0Gg25"
      },
      "source": [
        "Definição dos pesos de cada uma das métricas de assertividade e custo computacional."
      ]
    },
    {
      "cell_type": "code",
      "execution_count": 9,
      "metadata": {
        "id": "J4zOzLLwGB8M"
      },
      "outputs": [],
      "source": [
        "wa = [0.731, 0.188, 0.081] # Precision, Acuraccy, Recall\n",
        "wc = [0.731, 0.188, 0.081] #"
      ]
    },
    {
      "cell_type": "markdown",
      "metadata": {
        "id": "Q7R73GoAHCDD"
      },
      "source": [
        "Definição as funções de acesso às métricas de cálculo da assertividade e custo do modelo, além do parâmetro de controle $\\lambda$."
      ]
    },
    {
      "cell_type": "code",
      "execution_count": 10,
      "metadata": {
        "id": "7UWkDRHHTufm"
      },
      "outputs": [],
      "source": [
        "a = lambda modelo: modelo[\"assertividade\"].values() # assertividade\n",
        "c = lambda modelo: modelo[\"custo\"].values() # custo"
      ]
    },
    {
      "cell_type": "code",
      "execution_count": 11,
      "metadata": {
        "colab": {
          "base_uri": "https://localhost:8080/"
        },
        "id": "lxwOqrzHfXNA",
        "outputId": "4011b350-bc7a-48b4-90be-134f8852f2d0"
      },
      "outputs": [
        {
          "data": {
            "text/plain": [
              "dict_values([26, 115, 90])"
            ]
          },
          "execution_count": 11,
          "metadata": {},
          "output_type": "execute_result"
        }
      ],
      "source": [
        "c(caso_modelos[4])"
      ]
    },
    {
      "cell_type": "markdown",
      "metadata": {
        "id": "83LY-7iVT4Ee"
      },
      "source": [
        "Definição das métricas utilizadas para a avaliação dos modelos."
      ]
    },
    {
      "cell_type": "code",
      "execution_count": 12,
      "metadata": {
        "id": "-B2Wrg-SHVFB"
      },
      "outputs": [],
      "source": [
        "metricas_a = [\"precision\", \"accuracy\", \"recall\"]\n",
        "metricas_c = [\"mtp\", \"tpi\", \"ms\"]\n",
        "epsilon = 1e-5 # Parâmetro da padronização para evitar divisão por zero"
      ]
    },
    {
      "cell_type": "markdown",
      "metadata": {
        "id": "tVORNBFXAwmR"
      },
      "source": [
        "**Normalização Min-Max**"
      ]
    },
    {
      "cell_type": "code",
      "execution_count": 13,
      "metadata": {
        "id": "GdMf1bfOA4Qz"
      },
      "outputs": [],
      "source": [
        "maximo_a = lambda modelos, metrica: np.max([modelo[\"assertividade\"][metrica] for modelo in modelos]) # maximo da métrica de assertividade\n",
        "minimo_a = lambda modelos, metrica: np.min([modelo[\"assertividade\"][metrica] for modelo in modelos]) # minimo da métrica de assertividade\n",
        "\n",
        "maximo_c = lambda modelos, metrica: np.max([modelo[\"custo\"][metrica] for modelo in modelos]) # maximo da métrica de custo\n",
        "minimo_c = lambda modelos, metrica: np.min([modelo[\"custo\"][metrica] for modelo in modelos]) # minimo da métrica de custo\n",
        "\n",
        "maximos_a = lambda modelos: [maximo_a(modelos, metrica) for metrica in metricas_a]\n",
        "maximos_c = lambda modelos: [maximo_c(modelos, metrica) for metrica in metricas_c]\n",
        "\n",
        "minimos_a = lambda modelos: [minimo_a(modelos, metrica) for metrica in metricas_a]\n",
        "minimos_c = lambda modelos: [minimo_c(modelos, metrica) for metrica in metricas_c]\n",
        "\n",
        "N = lambda a_i, maximo, minimo: (a_i - minimo) / (maximo - minimo) # Min-Max"
      ]
    },
    {
      "cell_type": "markdown",
      "metadata": {
        "id": "bEwUWQ0hMaMG"
      },
      "source": [
        "**Valor Agregado de Assertividade (A) e Eficiência (C)**\n",
        "\n",
        "Os valores normalizados e reduzidos são ponderados pelos pesos e somados para obter o valor agregado para assertividade e custo:\n",
        "  $$\n",
        "  Assertiveness(model, w_a^i) = \\sum_{i=1}^{n} R(S(a_i, \\mu_a, \\sigma_a)) \\times w_a^i\n",
        "  $$\n",
        "  $$\n",
        "  Cost(model, w_c^i) = \\sum_{i=1}^{n} R(S(c_i, \\mu_c, \\sigma_c)) \\times w_c^i\n",
        "  $$\n",
        "\n",
        "<div align=\"center\">\n",
        "  onde $a_i$ e $c_i$ são os valores das métricas de assertividade e custo do modelo, respectivamente."
      ]
    },
    {
      "cell_type": "code",
      "execution_count": 14,
      "metadata": {
        "id": "CW2jgPe-MJV-"
      },
      "outputs": [],
      "source": [
        "A = lambda modelo, wa: sum([N(a_i, maximo, minimo) * wa_i for a_i, maximo, minimo, wa_i in zip(a(modelo), maximos_a(modelos), minimos_a(modelos), wa)])\n",
        "C = lambda modelo, wc: sum([N(c_i, maximo, minimo) * wc_i for c_i, maximo, minimo, wc_i in zip(c(modelo), maximos_c(modelos), minimos_c(modelos), wc)])"
      ]
    },
    {
      "cell_type": "markdown",
      "metadata": {
        "id": "YMd6zahENIXl"
      },
      "source": [
        "**Pontuação $S\\phi$**\n",
        "\n",
        "Os valores agregados de assertividade e eficiência são combinados usando um parâmetro $\\lambda\\$ (lambda) que define o peso relativo de assertividade versus custo:\n",
        "  $$\n",
        "  S\\phi(\\text{model}) = \\lambda \\times Assertiveness(model, w_a^i) - (1 - \\lambda) \\times Cost(model, w_c^i)\n",
        "  $$"
      ]
    },
    {
      "cell_type": "code",
      "execution_count": 15,
      "metadata": {
        "id": "YNd3NJKrMcXN"
      },
      "outputs": [],
      "source": [
        "F = lambda modelo: lbd * A(modelo, wa) - (1 - lbd) * C(modelo, wc)"
      ]
    },
    {
      "cell_type": "markdown",
      "metadata": {
        "id": "P_tWWo4kW9dr"
      },
      "source": [
        "**Execução do método para um caso definido**"
      ]
    },
    {
      "cell_type": "code",
      "execution_count": 16,
      "metadata": {},
      "outputs": [
        {
          "name": "stdout",
          "output_type": "stream",
          "text": [
            "max_a: [np.float64(0.84), np.float64(0.8), np.float64(0.82)], max_c: [np.int64(86), np.int64(279), np.int64(330)], min_a: [np.float64(0.12), np.float64(0.21), np.float64(0.16)], min_c: [np.int64(4), np.int64(5), np.int64(7)]\n"
          ]
        }
      ],
      "source": [
        "maximos_a_values = maximos_a(caso_modelos)\n",
        "minimos_a_values = minimos_a(caso_modelos)\n",
        "maximos_c_values = maximos_c(caso_modelos)\n",
        "minimos_c_values = minimos_c(caso_modelos)\n",
        "print(f\"max_a: {maximos_a_values}, max_c: {maximos_c_values}, min_a: {minimos_a_values}, min_c: {minimos_c_values}\")"
      ]
    },
    {
      "cell_type": "markdown",
      "metadata": {
        "id": "7kGiKAF2jCHn"
      },
      "source": [
        "Resultados"
      ]
    },
    {
      "cell_type": "code",
      "execution_count": 52,
      "metadata": {},
      "outputs": [],
      "source": [
        "lbd = 0.85"
      ]
    },
    {
      "cell_type": "code",
      "execution_count": 53,
      "metadata": {
        "colab": {
          "base_uri": "https://localhost:8080/"
        },
        "id": "VYJB_VH0Pkvq",
        "outputId": "5841f607-ff48-4cb8-bae1-3a15de27fe80"
      },
      "outputs": [
        {
          "name": "stdout",
          "output_type": "stream",
          "text": [
            "a1: 0.0, c1: 0.05797742203428226, f1: -0.00869661330514234\n"
          ]
        }
      ],
      "source": [
        "# Resultado para a assertividade e custo do caso de modelo 1\n",
        "a1 = A(caso_modelos[0], wa)\n",
        "c1 = C(caso_modelos[0], wc)\n",
        "f1 = F(caso_modelos[0])\n",
        "print(f\"a1: {a1}, c1: {c1}, f1: {f1}\")"
      ]
    },
    {
      "cell_type": "code",
      "execution_count": 54,
      "metadata": {
        "colab": {
          "base_uri": "https://localhost:8080/"
        },
        "id": "0RiEoy_mPcEm",
        "outputId": "1f8a5c23-6b67-4b43-a1d2-97b75a644786"
      },
      "outputs": [
        {
          "name": "stdout",
          "output_type": "stream",
          "text": [
            "a2: 0.041146849854476995, c2: 0.008233576642335767, f2: 0.03373978587995508\n"
          ]
        }
      ],
      "source": [
        "# Resultado para a assertividade e custo do caso de modelo 2\n",
        "a2 = A(caso_modelos[1], wa)\n",
        "c2 = C(caso_modelos[1], wc)\n",
        "f2 = F(caso_modelos[1])\n",
        "print(f\"a2: {a2}, c2: {c2}, f2: {f2}\")"
      ]
    },
    {
      "cell_type": "code",
      "execution_count": 55,
      "metadata": {
        "colab": {
          "base_uri": "https://localhost:8080/"
        },
        "id": "QZJ2AycLkzY2",
        "outputId": "6a833915-94cc-42a1-b7a0-62a6f572a373"
      },
      "outputs": [
        {
          "name": "stdout",
          "output_type": "stream",
          "text": [
            "a3: 0.89057284711522, c3: 0.9889557072156561, f3: 0.6086435639655885\n"
          ]
        }
      ],
      "source": [
        "a3 = A(caso_modelos[2], wa)\n",
        "c3 = C(caso_modelos[2], wc)\n",
        "f3 = F(caso_modelos[2])\n",
        "print(f\"a3: {a3}, c3: {c3}, f3: {f3}\")"
      ]
    },
    {
      "cell_type": "code",
      "execution_count": 56,
      "metadata": {
        "colab": {
          "base_uri": "https://localhost:8080/"
        },
        "id": "ex5aJRwek-NV",
        "outputId": "e24b193a-05b8-46ce-98de-d93e03a75e2e"
      },
      "outputs": [
        {
          "name": "stdout",
          "output_type": "stream",
          "text": [
            "a4: 0.9492361111111112, c4: 1.0, f4: 0.6568506944444444\n"
          ]
        }
      ],
      "source": [
        "a4 = A(caso_modelos[3], wa)\n",
        "c4 = C(caso_modelos[3], wc)\n",
        "f4 = F(caso_modelos[3])\n",
        "print(f\"a4: {a4}, c4: {c4}, f4: {f4}\")"
      ]
    },
    {
      "cell_type": "code",
      "execution_count": 57,
      "metadata": {
        "colab": {
          "base_uri": "https://localhost:8080/"
        },
        "id": "UjX8Uh24lAsV",
        "outputId": "9fdfbe18-1eac-4bc5-88de-bab6bc87f5bb"
      },
      "outputs": [
        {
          "name": "stdout",
          "output_type": "stream",
          "text": [
            "a5: 0.9825816640986132, c5: 0.2924106452603249, f5: 0.7913328176947725\n"
          ]
        }
      ],
      "source": [
        "a5 = A(caso_modelos[4], wa)\n",
        "c5 = C(caso_modelos[4], wc)\n",
        "f5 = F(caso_modelos[4])\n",
        "print(f\"a5: {a5}, c5: {c5}, f5: {f5}\")"
      ]
    },
    {
      "cell_type": "code",
      "execution_count": 58,
      "metadata": {
        "colab": {
          "base_uri": "https://localhost:8080/"
        },
        "id": "uJHTJJZ_lEUk",
        "outputId": "c32002db-c39b-4271-b261-75080ef2852f"
      },
      "outputs": [
        {
          "name": "stdout",
          "output_type": "stream",
          "text": [
            "a6: 0.7424533898305086, c6: 0.2905419083818417, f6: 0.587504095098656\n"
          ]
        }
      ],
      "source": [
        "a6 = A(caso_modelos[5], wa)\n",
        "c6 = C(caso_modelos[5], wc)\n",
        "f6 = F(caso_modelos[5])\n",
        "print(f\"a6: {a6}, c6: {c6}, f6: {f6}\")"
      ]
    },
    {
      "cell_type": "markdown",
      "metadata": {
        "id": "8lRRCmjE1QyH"
      },
      "source": [
        "### TESTES"
      ]
    },
    {
      "cell_type": "markdown",
      "metadata": {
        "id": "uJLk1x7H1TGc"
      },
      "source": [
        "lambda 0.85"
      ]
    },
    {
      "cell_type": "code",
      "execution_count": 59,
      "metadata": {
        "colab": {
          "base_uri": "https://localhost:8080/",
          "height": 238
        },
        "id": "isXds2sR0i5N",
        "outputId": "de77d775-7c79-4b52-df55-fac63e02cd55"
      },
      "outputs": [
        {
          "data": {
            "text/html": [
              "<div>\n",
              "<style scoped>\n",
              "    .dataframe tbody tr th:only-of-type {\n",
              "        vertical-align: middle;\n",
              "    }\n",
              "\n",
              "    .dataframe tbody tr th {\n",
              "        vertical-align: top;\n",
              "    }\n",
              "\n",
              "    .dataframe thead th {\n",
              "        text-align: right;\n",
              "    }\n",
              "</style>\n",
              "<table border=\"1\" class=\"dataframe\">\n",
              "  <thead>\n",
              "    <tr style=\"text-align: right;\">\n",
              "      <th></th>\n",
              "      <th>Modelo</th>\n",
              "      <th>F</th>\n",
              "      <th>A</th>\n",
              "      <th>C</th>\n",
              "    </tr>\n",
              "  </thead>\n",
              "  <tbody>\n",
              "    <tr>\n",
              "      <th>4</th>\n",
              "      <td>ResNet</td>\n",
              "      <td>0.791333</td>\n",
              "      <td>0.982582</td>\n",
              "      <td>0.292411</td>\n",
              "    </tr>\n",
              "    <tr>\n",
              "      <th>3</th>\n",
              "      <td>BEiT</td>\n",
              "      <td>0.656851</td>\n",
              "      <td>0.949236</td>\n",
              "      <td>1.000000</td>\n",
              "    </tr>\n",
              "    <tr>\n",
              "      <th>2</th>\n",
              "      <td>ViT</td>\n",
              "      <td>0.608644</td>\n",
              "      <td>0.890573</td>\n",
              "      <td>0.988956</td>\n",
              "    </tr>\n",
              "    <tr>\n",
              "      <th>5</th>\n",
              "      <td>ResNetXt</td>\n",
              "      <td>0.587504</td>\n",
              "      <td>0.742453</td>\n",
              "      <td>0.290542</td>\n",
              "    </tr>\n",
              "    <tr>\n",
              "      <th>1</th>\n",
              "      <td>MobileNet</td>\n",
              "      <td>0.033740</td>\n",
              "      <td>0.041147</td>\n",
              "      <td>0.008234</td>\n",
              "    </tr>\n",
              "    <tr>\n",
              "      <th>0</th>\n",
              "      <td>CNN</td>\n",
              "      <td>-0.008697</td>\n",
              "      <td>0.000000</td>\n",
              "      <td>0.057977</td>\n",
              "    </tr>\n",
              "  </tbody>\n",
              "</table>\n",
              "</div>"
            ],
            "text/plain": [
              "      Modelo         F         A         C\n",
              "4     ResNet  0.791333  0.982582  0.292411\n",
              "3       BEiT  0.656851  0.949236  1.000000\n",
              "2        ViT  0.608644  0.890573  0.988956\n",
              "5   ResNetXt  0.587504  0.742453  0.290542\n",
              "1  MobileNet  0.033740  0.041147  0.008234\n",
              "0        CNN -0.008697  0.000000  0.057977"
            ]
          },
          "execution_count": 59,
          "metadata": {},
          "output_type": "execute_result"
        }
      ],
      "source": [
        "dados = {\n",
        "    \"Modelo\": [\"CNN\", \"MobileNet\", \"ViT\", \"BEiT\", \"ResNet\", \"ResNetXt\"],\n",
        "    \"F\": [f1, f2, f3, f4, f5, f6],\n",
        "    \"A\": [a1, a2, a3, a4, a5, a6],\n",
        "    \"C\": [c1, c2, c3, c4, c5, c6]\n",
        "}\n",
        "df = pd.DataFrame(dados)\n",
        "df.sort_values(by=\"F\", ascending=False)"
      ]
    },
    {
      "cell_type": "markdown",
      "metadata": {
        "id": "bqjBGGPM1UQt"
      },
      "source": [
        "lambda 0.8"
      ]
    },
    {
      "cell_type": "code",
      "execution_count": 51,
      "metadata": {
        "colab": {
          "base_uri": "https://localhost:8080/",
          "height": 238
        },
        "id": "uDjBiPLC0XE9",
        "outputId": "a1e234e1-a91d-4ffd-b00f-2a1150074234"
      },
      "outputs": [
        {
          "data": {
            "text/html": [
              "<div>\n",
              "<style scoped>\n",
              "    .dataframe tbody tr th:only-of-type {\n",
              "        vertical-align: middle;\n",
              "    }\n",
              "\n",
              "    .dataframe tbody tr th {\n",
              "        vertical-align: top;\n",
              "    }\n",
              "\n",
              "    .dataframe thead th {\n",
              "        text-align: right;\n",
              "    }\n",
              "</style>\n",
              "<table border=\"1\" class=\"dataframe\">\n",
              "  <thead>\n",
              "    <tr style=\"text-align: right;\">\n",
              "      <th></th>\n",
              "      <th>Modelo</th>\n",
              "      <th>F</th>\n",
              "      <th>A</th>\n",
              "      <th>C</th>\n",
              "    </tr>\n",
              "  </thead>\n",
              "  <tbody>\n",
              "    <tr>\n",
              "      <th>4</th>\n",
              "      <td>ResNet</td>\n",
              "      <td>0.727583</td>\n",
              "      <td>0.982582</td>\n",
              "      <td>0.292411</td>\n",
              "    </tr>\n",
              "    <tr>\n",
              "      <th>3</th>\n",
              "      <td>BEiT</td>\n",
              "      <td>0.559389</td>\n",
              "      <td>0.949236</td>\n",
              "      <td>1.000000</td>\n",
              "    </tr>\n",
              "    <tr>\n",
              "      <th>5</th>\n",
              "      <td>ResNetXt</td>\n",
              "      <td>0.535854</td>\n",
              "      <td>0.742453</td>\n",
              "      <td>0.290542</td>\n",
              "    </tr>\n",
              "    <tr>\n",
              "      <th>2</th>\n",
              "      <td>ViT</td>\n",
              "      <td>0.514667</td>\n",
              "      <td>0.890573</td>\n",
              "      <td>0.988956</td>\n",
              "    </tr>\n",
              "    <tr>\n",
              "      <th>1</th>\n",
              "      <td>MobileNet</td>\n",
              "      <td>0.031271</td>\n",
              "      <td>0.041147</td>\n",
              "      <td>0.008234</td>\n",
              "    </tr>\n",
              "    <tr>\n",
              "      <th>0</th>\n",
              "      <td>CNN</td>\n",
              "      <td>-0.011595</td>\n",
              "      <td>0.000000</td>\n",
              "      <td>0.057977</td>\n",
              "    </tr>\n",
              "  </tbody>\n",
              "</table>\n",
              "</div>"
            ],
            "text/plain": [
              "      Modelo         F         A         C\n",
              "4     ResNet  0.727583  0.982582  0.292411\n",
              "3       BEiT  0.559389  0.949236  1.000000\n",
              "5   ResNetXt  0.535854  0.742453  0.290542\n",
              "2        ViT  0.514667  0.890573  0.988956\n",
              "1  MobileNet  0.031271  0.041147  0.008234\n",
              "0        CNN -0.011595  0.000000  0.057977"
            ]
          },
          "execution_count": 51,
          "metadata": {},
          "output_type": "execute_result"
        }
      ],
      "source": [
        "dados = {\n",
        "    \"Modelo\": [\"CNN\", \"MobileNet\", \"ViT\", \"BEiT\", \"ResNet\", \"ResNetXt\"],\n",
        "    \"F\": [f1, f2, f3, f4, f5, f6],\n",
        "    \"A\": [a1, a2, a3, a4, a5, a6],\n",
        "    \"C\": [c1, c2, c3, c4, c5, c6]\n",
        "}\n",
        "df = pd.DataFrame(dados)\n",
        "df.sort_values(by=\"F\", ascending=False)"
      ]
    },
    {
      "cell_type": "markdown",
      "metadata": {},
      "source": [
        "lambda = 0.75"
      ]
    },
    {
      "cell_type": "code",
      "execution_count": 43,
      "metadata": {},
      "outputs": [
        {
          "data": {
            "text/html": [
              "<div>\n",
              "<style scoped>\n",
              "    .dataframe tbody tr th:only-of-type {\n",
              "        vertical-align: middle;\n",
              "    }\n",
              "\n",
              "    .dataframe tbody tr th {\n",
              "        vertical-align: top;\n",
              "    }\n",
              "\n",
              "    .dataframe thead th {\n",
              "        text-align: right;\n",
              "    }\n",
              "</style>\n",
              "<table border=\"1\" class=\"dataframe\">\n",
              "  <thead>\n",
              "    <tr style=\"text-align: right;\">\n",
              "      <th></th>\n",
              "      <th>Modelo</th>\n",
              "      <th>F</th>\n",
              "      <th>A</th>\n",
              "      <th>C</th>\n",
              "    </tr>\n",
              "  </thead>\n",
              "  <tbody>\n",
              "    <tr>\n",
              "      <th>4</th>\n",
              "      <td>ResNet</td>\n",
              "      <td>0.663834</td>\n",
              "      <td>0.982582</td>\n",
              "      <td>0.292411</td>\n",
              "    </tr>\n",
              "    <tr>\n",
              "      <th>5</th>\n",
              "      <td>ResNetXt</td>\n",
              "      <td>0.484205</td>\n",
              "      <td>0.742453</td>\n",
              "      <td>0.290542</td>\n",
              "    </tr>\n",
              "    <tr>\n",
              "      <th>3</th>\n",
              "      <td>BEiT</td>\n",
              "      <td>0.461927</td>\n",
              "      <td>0.949236</td>\n",
              "      <td>1.000000</td>\n",
              "    </tr>\n",
              "    <tr>\n",
              "      <th>2</th>\n",
              "      <td>ViT</td>\n",
              "      <td>0.420691</td>\n",
              "      <td>0.890573</td>\n",
              "      <td>0.988956</td>\n",
              "    </tr>\n",
              "    <tr>\n",
              "      <th>1</th>\n",
              "      <td>MobileNet</td>\n",
              "      <td>0.028802</td>\n",
              "      <td>0.041147</td>\n",
              "      <td>0.008234</td>\n",
              "    </tr>\n",
              "    <tr>\n",
              "      <th>0</th>\n",
              "      <td>CNN</td>\n",
              "      <td>-0.014494</td>\n",
              "      <td>0.000000</td>\n",
              "      <td>0.057977</td>\n",
              "    </tr>\n",
              "  </tbody>\n",
              "</table>\n",
              "</div>"
            ],
            "text/plain": [
              "      Modelo         F         A         C\n",
              "4     ResNet  0.663834  0.982582  0.292411\n",
              "5   ResNetXt  0.484205  0.742453  0.290542\n",
              "3       BEiT  0.461927  0.949236  1.000000\n",
              "2        ViT  0.420691  0.890573  0.988956\n",
              "1  MobileNet  0.028802  0.041147  0.008234\n",
              "0        CNN -0.014494  0.000000  0.057977"
            ]
          },
          "execution_count": 43,
          "metadata": {},
          "output_type": "execute_result"
        }
      ],
      "source": [
        "dados = {\n",
        "    \"Modelo\": [\"CNN\", \"MobileNet\", \"ViT\", \"BEiT\", \"ResNet\", \"ResNetXt\"],\n",
        "    \"F\": [f1, f2, f3, f4, f5, f6],\n",
        "    \"A\": [a1, a2, a3, a4, a5, a6],\n",
        "    \"C\": [c1, c2, c3, c4, c5, c6]\n",
        "}\n",
        "df = pd.DataFrame(dados)\n",
        "df.sort_values(by=\"F\", ascending=False)"
      ]
    },
    {
      "cell_type": "markdown",
      "metadata": {
        "id": "PDAj5lVp2Ox6"
      },
      "source": [
        "lambda 0.5"
      ]
    },
    {
      "cell_type": "code",
      "execution_count": 35,
      "metadata": {
        "colab": {
          "base_uri": "https://localhost:8080/",
          "height": 238
        },
        "id": "ZRoUBg2k16Av",
        "outputId": "8d649d39-e5ef-45f7-9aa1-05a9e3a89593"
      },
      "outputs": [
        {
          "data": {
            "text/html": [
              "<div>\n",
              "<style scoped>\n",
              "    .dataframe tbody tr th:only-of-type {\n",
              "        vertical-align: middle;\n",
              "    }\n",
              "\n",
              "    .dataframe tbody tr th {\n",
              "        vertical-align: top;\n",
              "    }\n",
              "\n",
              "    .dataframe thead th {\n",
              "        text-align: right;\n",
              "    }\n",
              "</style>\n",
              "<table border=\"1\" class=\"dataframe\">\n",
              "  <thead>\n",
              "    <tr style=\"text-align: right;\">\n",
              "      <th></th>\n",
              "      <th>Modelo</th>\n",
              "      <th>F</th>\n",
              "      <th>A</th>\n",
              "      <th>C</th>\n",
              "    </tr>\n",
              "  </thead>\n",
              "  <tbody>\n",
              "    <tr>\n",
              "      <th>4</th>\n",
              "      <td>ResNet</td>\n",
              "      <td>0.345086</td>\n",
              "      <td>0.982582</td>\n",
              "      <td>0.292411</td>\n",
              "    </tr>\n",
              "    <tr>\n",
              "      <th>5</th>\n",
              "      <td>ResNetXt</td>\n",
              "      <td>0.225956</td>\n",
              "      <td>0.742453</td>\n",
              "      <td>0.290542</td>\n",
              "    </tr>\n",
              "    <tr>\n",
              "      <th>1</th>\n",
              "      <td>MobileNet</td>\n",
              "      <td>0.016457</td>\n",
              "      <td>0.041147</td>\n",
              "      <td>0.008234</td>\n",
              "    </tr>\n",
              "    <tr>\n",
              "      <th>3</th>\n",
              "      <td>BEiT</td>\n",
              "      <td>-0.025382</td>\n",
              "      <td>0.949236</td>\n",
              "      <td>1.000000</td>\n",
              "    </tr>\n",
              "    <tr>\n",
              "      <th>0</th>\n",
              "      <td>CNN</td>\n",
              "      <td>-0.028989</td>\n",
              "      <td>0.000000</td>\n",
              "      <td>0.057977</td>\n",
              "    </tr>\n",
              "    <tr>\n",
              "      <th>2</th>\n",
              "      <td>ViT</td>\n",
              "      <td>-0.049191</td>\n",
              "      <td>0.890573</td>\n",
              "      <td>0.988956</td>\n",
              "    </tr>\n",
              "  </tbody>\n",
              "</table>\n",
              "</div>"
            ],
            "text/plain": [
              "      Modelo         F         A         C\n",
              "4     ResNet  0.345086  0.982582  0.292411\n",
              "5   ResNetXt  0.225956  0.742453  0.290542\n",
              "1  MobileNet  0.016457  0.041147  0.008234\n",
              "3       BEiT -0.025382  0.949236  1.000000\n",
              "0        CNN -0.028989  0.000000  0.057977\n",
              "2        ViT -0.049191  0.890573  0.988956"
            ]
          },
          "execution_count": 35,
          "metadata": {},
          "output_type": "execute_result"
        }
      ],
      "source": [
        "dados = {\n",
        "    \"Modelo\": [\"CNN\", \"MobileNet\", \"ViT\", \"BEiT\", \"ResNet\", \"ResNetXt\"],\n",
        "    \"F\": [f1, f2, f3, f4, f5, f6],\n",
        "    \"A\": [a1, a2, a3, a4, a5, a6],\n",
        "    \"C\": [c1, c2, c3, c4, c5, c6]\n",
        "}\n",
        "df = pd.DataFrame(dados)\n",
        "df.sort_values(by=\"F\", ascending=False)"
      ]
    },
    {
      "cell_type": "markdown",
      "metadata": {},
      "source": [
        "Lambda 0.25"
      ]
    },
    {
      "cell_type": "code",
      "execution_count": 26,
      "metadata": {
        "colab": {
          "base_uri": "https://localhost:8080/",
          "height": 238
        },
        "id": "6VlJkUIBquCY",
        "outputId": "90ad2b9e-d26e-496a-aa3c-c18560a4bcfe"
      },
      "outputs": [
        {
          "data": {
            "text/html": [
              "<div>\n",
              "<style scoped>\n",
              "    .dataframe tbody tr th:only-of-type {\n",
              "        vertical-align: middle;\n",
              "    }\n",
              "\n",
              "    .dataframe tbody tr th {\n",
              "        vertical-align: top;\n",
              "    }\n",
              "\n",
              "    .dataframe thead th {\n",
              "        text-align: right;\n",
              "    }\n",
              "</style>\n",
              "<table border=\"1\" class=\"dataframe\">\n",
              "  <thead>\n",
              "    <tr style=\"text-align: right;\">\n",
              "      <th></th>\n",
              "      <th>Modelo</th>\n",
              "      <th>F</th>\n",
              "      <th>A</th>\n",
              "      <th>C</th>\n",
              "    </tr>\n",
              "  </thead>\n",
              "  <tbody>\n",
              "    <tr>\n",
              "      <th>0</th>\n",
              "      <td>CNN</td>\n",
              "      <td>-0.043483</td>\n",
              "      <td>0.000000</td>\n",
              "      <td>0.057977</td>\n",
              "    </tr>\n",
              "    <tr>\n",
              "      <th>1</th>\n",
              "      <td>MobileNet</td>\n",
              "      <td>0.004112</td>\n",
              "      <td>0.041147</td>\n",
              "      <td>0.008234</td>\n",
              "    </tr>\n",
              "    <tr>\n",
              "      <th>2</th>\n",
              "      <td>ViT</td>\n",
              "      <td>-0.519074</td>\n",
              "      <td>0.890573</td>\n",
              "      <td>0.988956</td>\n",
              "    </tr>\n",
              "    <tr>\n",
              "      <th>3</th>\n",
              "      <td>BEiT</td>\n",
              "      <td>-0.512691</td>\n",
              "      <td>0.949236</td>\n",
              "      <td>1.000000</td>\n",
              "    </tr>\n",
              "    <tr>\n",
              "      <th>4</th>\n",
              "      <td>ResNet</td>\n",
              "      <td>0.026337</td>\n",
              "      <td>0.982582</td>\n",
              "      <td>0.292411</td>\n",
              "    </tr>\n",
              "    <tr>\n",
              "      <th>5</th>\n",
              "      <td>ResNetXt</td>\n",
              "      <td>-0.032293</td>\n",
              "      <td>0.742453</td>\n",
              "      <td>0.290542</td>\n",
              "    </tr>\n",
              "  </tbody>\n",
              "</table>\n",
              "</div>"
            ],
            "text/plain": [
              "      Modelo         F         A         C\n",
              "0        CNN -0.043483  0.000000  0.057977\n",
              "1  MobileNet  0.004112  0.041147  0.008234\n",
              "2        ViT -0.519074  0.890573  0.988956\n",
              "3       BEiT -0.512691  0.949236  1.000000\n",
              "4     ResNet  0.026337  0.982582  0.292411\n",
              "5   ResNetXt -0.032293  0.742453  0.290542"
            ]
          },
          "execution_count": 26,
          "metadata": {},
          "output_type": "execute_result"
        }
      ],
      "source": [
        "dados = {\n",
        "    \"Modelo\": [\"CNN\", \"MobileNet\", \"ViT\", \"BEiT\", \"ResNet\", \"ResNetXt\"],\n",
        "    \"F\": [f1, f2, f3, f4, f5, f6],\n",
        "    \"A\": [a1, a2, a3, a4, a5, a6],\n",
        "    \"C\": [c1, c2, c3, c4, c5, c6]\n",
        "}\n",
        "df = pd.DataFrame(dados)\n",
        "df"
      ]
    }
  ],
  "metadata": {
    "colab": {
      "provenance": []
    },
    "kernelspec": {
      "display_name": "Python 3",
      "name": "python3"
    },
    "language_info": {
      "codemirror_mode": {
        "name": "ipython",
        "version": 3
      },
      "file_extension": ".py",
      "mimetype": "text/x-python",
      "name": "python",
      "nbconvert_exporter": "python",
      "pygments_lexer": "ipython3",
      "version": "3.12.3"
    }
  },
  "nbformat": 4,
  "nbformat_minor": 0
}
