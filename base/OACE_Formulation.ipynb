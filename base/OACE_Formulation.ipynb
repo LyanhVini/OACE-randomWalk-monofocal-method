{
  "cells": [
    {
      "cell_type": "markdown",
      "metadata": {
        "id": "U84l8PSPBe2M"
      },
      "source": [
        "### <b> Abordagem 1: Avaliação de Classificadores no Reconhecimento de Formas Geométricas Tridimensionais </b>"
      ]
    },
    {
      "cell_type": "markdown",
      "metadata": {
        "id": "fMcrrZdgLsZi"
      },
      "source": [
        "#### <b> Objetivos </b>\n",
        "\n",
        "*   Esse trabalho apresenta um novo método avaliativo de modelos de Deep Learning baseado em Assertividade e Custo Computacional;\n",
        "*   Avaliação dos modelos diretamente baseada nas métricas de Assertividade Machine Learning e Custo Computacional;\n",
        "*   Selecionar o modelo de maior assertividade e eficiência computacional, garantindo ao mesmo tempo a mais alta qualidade na experiência futura do usuário por meio de um aplicativo, denominado Geometa."
      ]
    },
    {
      "cell_type": "markdown",
      "metadata": {
        "id": "b5_TigQELJll"
      },
      "source": [
        "#### <b> Método </b>\n",
        "\n",
        "*   Treinar modelos para o Reconhecimento de Formas Geométricas Tridimensionais por meio de imagens do mundo real;\n",
        "*   Avaliar os modelos com base nas métricas de Machine Learning:\n",
        "\n",
        "<br>\n",
        "  \n",
        "$$\n",
        "  \\text{Precisão} = \\frac{\\text{Verdadeiros Positivos}}{\\text{Verdadeiros Positivos} + \\text{Falsos Positivos}}\n",
        "$$\n",
        "\n",
        "$$\n",
        "\\text{Acurácia} = \\frac{\\text{Verdadeiros Positivos} + \\text{Verdadeiros Negativos}}{\\text{Total de Amostras}}\n",
        "$$\n",
        "\n",
        "<br>\n",
        "\n",
        "$$\n",
        "\\text{Recall} = \\frac{\\text{Verdadeiros Positivos}}{\\text{Verdadeiros Positivos} + \\text{Falsos Negativos}}\n",
        "$$\n",
        "\n",
        "<br>\n",
        "\n",
        "*   Avaliar os modelos com base nas métricas de Custo Computacional:\n",
        "\n",
        "<br>\n",
        "\n",
        "$$\n",
        "\\text{Total de Parâmetros} = MTP\n",
        "$$\n",
        "\n",
        "<br>\n",
        "\n",
        "$$\n",
        "\\text{Memória Usada} = MS\n",
        "$$\n",
        "\n",
        "<br>\n",
        "\n",
        "$$\n",
        "\\text{Tempo por Inferência (TPI)} = \\frac{\\text{Tempo Total de Inferência}}{\\text{Número Total de Inferências}}\n",
        "$$\n",
        "<br>\n",
        "\n",
        "*   Selecionar o modelo de melhor desempenho.\n",
        "\n"
      ]
    },
    {
      "cell_type": "markdown",
      "metadata": {
        "id": "lDcxBG2WHCxA"
      },
      "source": [
        "### <b> Abordagem II: Avaliação de Desempenho $S\\phi$ em Assertividade e Custo Computacional</b>\n",
        "#### <b>Estudo de caso: Reconhecimento de Formas Geométricas Tridimensionais</b>"
      ]
    },
    {
      "cell_type": "markdown",
      "metadata": {
        "id": "pvoIrm8xTDWc"
      },
      "source": [
        "#### <b> Modelagem do problema </b>\n",
        "\n",
        "Considere um problema de otimização multiobjetivo que envolve tanto a maximização da assertividade de um modelo de Deep Learning, denotada por $A(m)$, quanto a minimização do custo computacional, denotada por $C(m)$. A formulação proposta busca encontrar um modelo $m$ que ofereça um equilíbrio ótimo entre assertividade e eficiência computacional. Para tal, introduzimos um parâmetro $\\lambda$, que balanceia esses dois objetivos, controlando a importância relativa de cada um.\n",
        "\n",
        "<br>\n",
        "\n",
        "  $$\n",
        "  \\underset{m}{\\text{maximizar}} \\quad {S\\phi(m)} = \\lambda \\cdot A(m) + (1 - \\lambda) \\cdot C(m) \\\\\n",
        "  A(m) = \\sum_{i}{w_i^a \\cdot a_i(m)} \\\\\n",
        "  C(m) = -\\sum_{j}{w_j^c \\cdot c_j(m)} \\\\\n",
        "  \\quad \\text{sujeito a} \\space \\space \\quad m \\in M \\text{(conjunto de modelos)} \\quad \\quad \\quad \\\\\n",
        "  \\frac{1}{2} \\leq \\lambda \\leq 1 \\quad \\quad \\quad \\quad \\quad \\\\\n",
        "  \\quad \\quad \\space 0 \\leq w_i^a, w_j^c \\leq 1, \\quad \\forall i,j \\in \\mathbb{N}\n",
        "  $$"
      ]
    },
    {
      "cell_type": "markdown",
      "metadata": {
        "id": "Za4wMQh5OiSG"
      },
      "source": [
        "#### <b> Implementação </b>\n",
        "A implementação deste modelo de problema envolve avaliar e comparar o desempenho de modelos de Inteligência Artificial por meio de um conjunto de métricas quaisquer. O método visa considerar tanto a assertividade quanto o custo computacional dos modelos na classificação."
      ]
    },
    {
      "cell_type": "markdown",
      "metadata": {
        "id": "Jhf8YzesZ1LB"
      },
      "source": [
        "##### Implementação do AHP"
      ]
    },
    {
      "cell_type": "markdown",
      "metadata": {
        "id": "JpCoc5GcZlv4"
      },
      "source": [
        "- Definir os pesos relativos em cada conjuntos de métricas\n",
        "- Definição da Matriz de Critério para cada conjuntos de métricas, baseada na relevância relativa\n",
        "- Traçar o grau de confiança"
      ]
    },
    {
      "cell_type": "markdown",
      "metadata": {
        "id": "RltY_dh1aBqx"
      },
      "source": [
        "##### Definição das métricas após o treinamento dos modelos"
      ]
    },
    {
      "cell_type": "markdown",
      "metadata": {
        "id": "vh6GABJHEuk5"
      },
      "source": [
        "Exemplos de casos envolvendo conjuntos de métricas obtidas pela avaliação de modelos."
      ]
    },
    {
      "cell_type": "code",
      "execution_count": null,
      "metadata": {
        "colab": {
          "base_uri": "https://localhost:8080/"
        },
        "id": "-Ss4l8YSfj8f",
        "outputId": "274957ea-e27e-4f05-b36d-1659f14f39b1"
      },
      "outputs": [
        {
          "data": {
            "text/plain": [
              "[{'assertividade': {'precision': 0.12, 'accuracy': 0.21, 'recall': 0.16},\n",
              "  'custo': {'mtp': 8, 'tpi': 5, 'ms': 96}},\n",
              " {'assertividade': {'precision': 0.14, 'accuracy': 0.26, 'recall': 0.2},\n",
              "  'custo': {'mtp': 4, 'tpi': 17, 'ms': 7}},\n",
              " {'assertividade': {'precision': 0.76, 'accuracy': 0.75, 'recall': 0.72},\n",
              "  'custo': {'mtp': 86, 'tpi': 264, 'ms': 327}},\n",
              " {'assertividade': {'precision': 0.79, 'accuracy': 0.8, 'recall': 0.82},\n",
              "  'custo': {'mtp': 86, 'tpi': 279, 'ms': 330}},\n",
              " {'assertividade': {'precision': 0.84, 'accuracy': 0.78, 'recall': 0.73},\n",
              "  'custo': {'mtp': 26, 'tpi': 115, 'ms': 90}},\n",
              " {'assertividade': {'precision': 0.66, 'accuracy': 0.65, 'recall': 0.6},\n",
              "  'custo': {'mtp': 25, 'tpi': 126, 'ms': 88}}]"
            ]
          },
          "execution_count": 9,
          "metadata": {},
          "output_type": "execute_result"
        }
      ],
      "source": [
        "cnn = {\"assertividade\": {\n",
        "                            \"precision\":0.12,\n",
        "                            \"accuracy\":0.21,\n",
        "                            \"recall\":0.16,\n",
        "                           },\n",
        "                 \"custo\": {\n",
        "                            \"mtp\":8, # model total parameters\n",
        "                            \"tpi\":5, # time per inference\n",
        "                            \"ms\":96 # model size\n",
        "                          }\n",
        "                }\n",
        "mobileNet = {\"assertividade\": {\n",
        "                            \"precision\":0.14,\n",
        "                            \"accuracy\":0.26,\n",
        "                            \"recall\":0.20,\n",
        "                           },\n",
        "                 \"custo\": {\n",
        "                            \"mtp\":4, # model total parameters\n",
        "                            \"tpi\":17, # time per inference\n",
        "                            \"ms\":7 # model size\n",
        "                          }\n",
        "                }\n",
        "vit = {\"assertividade\": {\n",
        "                            \"precision\":0.76,\n",
        "                            \"accuracy\":0.75,\n",
        "                            \"recall\":0.72,\n",
        "                           },\n",
        "                 \"custo\": {\n",
        "                            \"mtp\":86, # model total parameters\n",
        "                            \"tpi\":264, # time per inference\n",
        "                            \"ms\":327 # model size\n",
        "                          }\n",
        "                }\n",
        "beit = {\"assertividade\": {\n",
        "                            \"precision\":0.79,\n",
        "                            \"accuracy\":0.80,\n",
        "                            \"recall\":0.82,\n",
        "                           },\n",
        "                 \"custo\": {\n",
        "                            \"mtp\":86, # model total parameters\n",
        "                            \"tpi\":279, # time per inference\n",
        "                            \"ms\":330 # model size\n",
        "                          }\n",
        "                }\n",
        "resnet = {\"assertividade\": {\n",
        "                            \"precision\":0.84,\n",
        "                            \"accuracy\":0.78,\n",
        "                            \"recall\":0.73,\n",
        "                           },\n",
        "                 \"custo\": {\n",
        "                            \"mtp\":26, # model total parameters\n",
        "                            \"tpi\":115, # time per inference\n",
        "                            \"ms\":90 # model size\n",
        "                          }\n",
        "                }\n",
        "resnetXt = {\"assertividade\": {\n",
        "                            \"precision\":0.66,\n",
        "                            \"accuracy\":0.65,\n",
        "                            \"recall\":0.60,\n",
        "                           },\n",
        "                 \"custo\": {\n",
        "                            \"mtp\":25, # model total parameters\n",
        "                            \"tpi\":126, # time per inference\n",
        "                            \"ms\":88 # model size\n",
        "                          }\n",
        "                }\n",
        "\n",
        "caso_modelos = [cnn, mobileNet, vit, beit, resnet, resnetXt]\n",
        "caso_modelos"
      ]
    },
    {
      "cell_type": "markdown",
      "metadata": {
        "id": "bKTHoxL0Gg25"
      },
      "source": [
        "Definição dos pesos de cada uma das métricas de assertividade e custo computacional."
      ]
    },
    {
      "cell_type": "code",
      "execution_count": null,
      "metadata": {
        "id": "J4zOzLLwGB8M"
      },
      "outputs": [],
      "source": [
        "wa = [0.731, 0.188, 0.081] # Precision, Acuraccy, Recall\n",
        "wc = [0.731, 0.188, 0.081] # MTP, TPI, MS"
      ]
    },
    {
      "cell_type": "code",
      "execution_count": null,
      "metadata": {},
      "outputs": [],
      "source": [
        "lbd = 0.5"
      ]
    },
    {
      "cell_type": "markdown",
      "metadata": {
        "id": "tVORNBFXAwmR"
      },
      "source": [
        "**Normalização Min-Max (com sucesso)**"
      ]
    },
    {
      "cell_type": "code",
      "execution_count": 1,
      "metadata": {},
      "outputs": [],
      "source": [
        "import numpy as np"
      ]
    },
    {
      "cell_type": "code",
      "execution_count": null,
      "metadata": {},
      "outputs": [],
      "source": [
        "metricas_a = [\"precision\", \"accuracy\", \"recall\"]\n",
        "metricas_c = [\"mtp\", \"tpi\", \"ms\"]\n",
        "epsilon = 1e-5 # Parâmetro da padronização para evitar divisão por zero"
      ]
    },
    {
      "cell_type": "code",
      "execution_count": null,
      "metadata": {
        "id": "GdMf1bfOA4Qz"
      },
      "outputs": [],
      "source": [
        "maximo_a = lambda modelos, metrica: np.max([modelo[\"assertividade\"][metrica] for modelo in modelos]) # maximo da métrica de assertividade\n",
        "minimo_a = lambda modelos, metrica: np.min([modelo[\"assertividade\"][metrica] for modelo in modelos]) # minimo da métrica de assertividade\n",
        "\n",
        "maximo_c = lambda modelos, metrica: np.max([modelo[\"custo\"][metrica] for modelo in modelos]) # maximo da métrica de custo\n",
        "minimo_c = lambda modelos, metrica: np.min([modelo[\"custo\"][metrica] for modelo in modelos]) # minimo da métrica de custo\n",
        "\n",
        "maximos_a = lambda modelos: [maximo_a(modelos, metrica) for metrica in metricas_a]\n",
        "maximos_c = lambda modelos: [maximo_c(modelos, metrica) for metrica in metricas_c]\n",
        "\n",
        "minimos_a = lambda modelos: [minimo_a(modelos, metrica) for metrica in metricas_a]\n",
        "minimos_c = lambda modelos: [minimo_c(modelos, metrica) for metrica in metricas_c]\n",
        "\n",
        "N = lambda a_i, maximo, minimo: (a_i - minimo) / (maximo - minimo) # Min-Max"
      ]
    },
    {
      "cell_type": "markdown",
      "metadata": {
        "id": "pW3AEggEbYQQ"
      },
      "source": [
        "##### Definição das Furmulações"
      ]
    },
    {
      "cell_type": "markdown",
      "metadata": {
        "id": "bEwUWQ0hMaMG"
      },
      "source": [
        "**Valor Agregado de Assertividade (A) e Eficiência (C)**\n",
        "\n",
        "Os valores normalizados e reduzidos são ponderados pelos pesos e somados para obter o valor agregado para assertividade e custo:\n",
        "  $$\n",
        "  A(m) = \\sum_{i}{w_i^a \\cdot a_i(m)} \\\\\n",
        "  $$\n",
        "  $$\n",
        "  C(m) = -\\sum_{j}{w_j^c \\cdot c_j(m)} \\\\\n",
        "  $$\n",
        "\n",
        "<div align=\"center\">\n",
        "  onde $a_i$ e $c_i$ são os valores das métricas de assertividade e custo do modelo e w_i^a e w_j^c são os pesos das métricas, respectivamente."
      ]
    },
    {
      "cell_type": "code",
      "execution_count": null,
      "metadata": {
        "id": "CW2jgPe-MJV-"
      },
      "outputs": [],
      "source": [
        "A = lambda modelo, wa: sum([N(a_i, maximo, minimo) * wa_i for a_i, maximo, minimo, wa_i in zip(a(modelo), maximos_a(modelos), minimos_a(modelos), wa)])\n",
        "C = lambda modelo, wc: sum([N(c_i, maximo, minimo) * wc_i for c_i, maximo, minimo, wc_i in zip(c(modelo), maximos_c(modelos), minimos_c(modelos), wc)])"
      ]
    },
    {
      "cell_type": "markdown",
      "metadata": {
        "id": "YMd6zahENIXl"
      },
      "source": [
        "**Pontuação $S\\phi$**\n",
        "\n",
        "Os valores agregados de assertividade e eficiência são combinados usando um parâmetro $\\lambda\\$ (lambda) que define o peso relativo de assertividade versus custo:\n",
        "  $$\n",
        "  S\\phi(\\text{m}) = \\lambda \\times A(m) - (1 - \\lambda) \\times C(m)\n",
        "  $$"
      ]
    },
    {
      "cell_type": "code",
      "execution_count": null,
      "metadata": {
        "id": "YNd3NJKrMcXN"
      },
      "outputs": [],
      "source": [
        "F = lambda modelo: lbd * A(modelo, wa) - (1 - lbd) * C(modelo, wc)"
      ]
    }
  ],
  "metadata": {
    "colab": {
      "provenance": []
    },
    "kernelspec": {
      "display_name": "Python 3",
      "name": "python3"
    },
    "language_info": {
      "codemirror_mode": {
        "name": "ipython",
        "version": 3
      },
      "file_extension": ".py",
      "mimetype": "text/x-python",
      "name": "python",
      "nbconvert_exporter": "python",
      "pygments_lexer": "ipython3",
      "version": "3.12.3"
    }
  },
  "nbformat": 4,
  "nbformat_minor": 0
}
